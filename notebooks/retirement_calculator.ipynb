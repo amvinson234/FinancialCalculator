{
 "cells": [
  {
   "cell_type": "code",
   "execution_count": 1,
   "id": "68ca53b2",
   "metadata": {},
   "outputs": [],
   "source": [
    "import FinancialCalculator as fc"
   ]
  },
  {
   "cell_type": "code",
   "execution_count": 2,
   "id": "6a03a671",
   "metadata": {},
   "outputs": [],
   "source": [
    "trad_401k_contr_rate = 0.05\n",
    "roth_401k_contr_rate = 0.10\n",
    "roth_trad_ratio = roth_401k_contr_rate / (roth_401k_contr_rate+trad_401k_contr_rate)\n",
    "esop_contr_rate = 0.0\n",
    "working_income_start = 110000\n",
    "working_expenses_start = 50000\n",
    "retirement_age = 55\n",
    "stock_growth_rate = 0.05"
   ]
  },
  {
   "cell_type": "code",
   "execution_count": 3,
   "id": "875d931a",
   "metadata": {},
   "outputs": [],
   "source": [
    "roth_ira = fc.Saver(16000,\n",
    "                    6000,\n",
    "                    contribution_cap=6000,\n",
    "                    apr=stock_growth_rate)\n",
    "trad_401k = fc.Saver(1000,\n",
    "                     personal_contribution_rate=trad_401k_contr_rate,\n",
    "                     contribution_cap=20500,\n",
    "                     apr=stock_growth_rate,\n",
    "                     tax=fc.fed_ca_tax,\n",
    "                     account_type='traditional 401k',\n",
    "                     employer_contribution_rate=0.05)\n",
    "roth_401k = fc.Saver(1000,\n",
    "                    personal_contribution_rate=roth_401k_contr_rate,\n",
    "                    contribution_cap=20500,\n",
    "                    apr=stock_growth_rate)\n",
    "esop = fc.Saver(0,\n",
    "                personal_contribution_rate=esop_contr_rate,\n",
    "                tax=fc.fed_ca_tax,\n",
    "                apr=stock_growth_rate,\n",
    "                employer_contribution_rate=0.05)"
   ]
  },
  {
   "cell_type": "code",
   "execution_count": 4,
   "id": "418f0e02",
   "metadata": {},
   "outputs": [],
   "source": [
    "accounts = {'roth ira':roth_ira, 'traditional 401k': trad_401k, 'roth 401k': roth_401k, 'esop':esop}"
   ]
  },
  {
   "cell_type": "code",
   "execution_count": 5,
   "id": "422a2a1f",
   "metadata": {},
   "outputs": [
    {
     "name": "stdout",
     "output_type": "stream",
     "text": [
      "Age NetWorth\n",
      "31 59079.71\n",
      "32 102515.76\n",
      "33 148438.25\n",
      "34 196984.06000000003\n",
      "35 248297.13\n",
      "36 302528.91000000003\n",
      "37 359838.5899999999\n",
      "38 420393.69\n",
      "39 484370.30999999994\n",
      "40 551953.6599999999\n",
      "41 623338.48\n",
      "42 698728.7700000001\n",
      "43 778319.2599999998\n",
      "44 862314.3400000001\n",
      "45 950928.45\n",
      "46 1044386.73\n",
      "47 1142925.3900000001\n",
      "48 1246792.35\n",
      "49 1356247.8\n",
      "50 1471564.7999999998\n",
      "51 1593030.0\n",
      "52 1720944.17\n",
      "53 1855623.01\n",
      "54 1997397.9500000002\n",
      "55 2146377.37\n"
     ]
    }
   ],
   "source": [
    "person = fc.PersonalFinances(accounts, \n",
    "                             working_income_start,\n",
    "                             working_expenses_start,\n",
    "                             fc.fed_ca_tax,\n",
    "                             fc.fica_tax,\n",
    "                             30,\n",
    "                             0.02,\n",
    "                             0.02\n",
    "                            )\n",
    "\n",
    "print('Age', 'NetWorth')\n",
    "while(person.GetAge() < retirement_age):\n",
    "    person.Age()\n",
    "    _401k_contr = person.GetAccount('traditional 401k').GetPersonalContribution(person.GetIncome()) + \\\n",
    "                  person.GetAccount('roth 401k').GetPersonalContribution(person.GetIncome())\n",
    "    if _401k_contr > 20500:\n",
    "        person.GetAccount('traditional 401k').SetPersonalContribution(20500*(1-roth_trad_ratio),0)\n",
    "        person.GetAccount('roth 401k').SetPersonalContribution(20500*roth_trad_ratio,0)\n",
    "    print(person.GetAge(), person.GetNetWorth())\n",
    "        \n",
    "    \n",
    "    \n",
    "    "
   ]
  },
  {
   "cell_type": "code",
   "execution_count": 6,
   "id": "bc786f13",
   "metadata": {},
   "outputs": [
    {
     "name": "stdout",
     "output_type": "stream",
     "text": [
      "83860.47\n"
     ]
    }
   ],
   "source": [
    "account_keys = person.GetAccountKeys()\n",
    "\n",
    "retirement_income=0\n",
    "for key in account_keys:\n",
    "    retirement_income += person.Withdraw(account_key=key,amount=person.GetAccount(key).GetAccountValue()*0.04)\n",
    "    \n",
    "person.Age()\n",
    "print(retirement_income)"
   ]
  },
  {
   "cell_type": "code",
   "execution_count": null,
   "id": "b8d7e892",
   "metadata": {},
   "outputs": [],
   "source": []
  },
  {
   "cell_type": "code",
   "execution_count": null,
   "id": "83c1994f",
   "metadata": {},
   "outputs": [],
   "source": []
  }
 ],
 "metadata": {
  "kernelspec": {
   "display_name": "Python 3 (ipykernel)",
   "language": "python",
   "name": "python3"
  },
  "language_info": {
   "codemirror_mode": {
    "name": "ipython",
    "version": 3
   },
   "file_extension": ".py",
   "mimetype": "text/x-python",
   "name": "python",
   "nbconvert_exporter": "python",
   "pygments_lexer": "ipython3",
   "version": "3.8.8"
  }
 },
 "nbformat": 4,
 "nbformat_minor": 5
}
